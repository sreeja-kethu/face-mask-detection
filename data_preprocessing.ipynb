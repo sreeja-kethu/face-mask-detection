{
 "cells": [
  {
   "cell_type": "code",
   "execution_count": 1,
   "metadata": {},
   "outputs": [],
   "source": [
    "import cv2\n",
    "import os\n",
    "import keras\n",
    "import keras.utils"
   ]
  },
  {
   "cell_type": "code",
   "execution_count": 2,
   "metadata": {},
   "outputs": [
    {
     "name": "stdout",
     "output_type": "stream",
     "text": [
      "{'with mask': 0, 'without mask': 1}\n",
      "['with mask', 'without mask']\n",
      "[0, 1]\n"
     ]
    }
   ],
   "source": [
    "Data_path= 'DataSet'\n",
    "categories= os.listdir(Data_path)\n",
    "labels=[i for i in range(len(categories))]  # for number of folders inside the dataset\n",
    "label_dict=dict(zip(categories,labels)) # create a dictionary ==> keys as folder names values as 0 and 1 respectivelu\n",
    "print(label_dict)  \n",
    "print(categories)\n",
    "print(labels)"
   ]
  },
  {
   "cell_type": "code",
   "execution_count": 3,
   "metadata": {},
   "outputs": [],
   "source": [
    "# Creating Empty Python Lists for saving the images \n",
    "img_size=100\n",
    "Data=[]\n",
    "Target=[]\n",
    "for category in categories:\n",
    "    folder_path=os.path.join(Data_path,category)\n",
    "    img_names= os.listdir(folder_path)\n",
    "    for img_name in img_names:\n",
    "        img_path=os.path.join(folder_path,img_name)\n",
    "        img=cv2.imread(img_path)\n",
    "\n",
    "        try:\n",
    "            gray=cv2.cvtColor(img,cv2.COLOR_BGR2GRAY)      # NORMAL TO IMAGE INTO GRAY SCALE      \n",
    "            \n",
    "            resized=cv2.resize(gray,(img_size,img_size))   \n",
    "            #resizing the gray scale into 50x50, since we need a fixed common size for all the images in the dataset\n",
    "            Data.append(resized)\n",
    "            Target.append(label_dict[category])\n",
    "            #appending the image and the label(categorized) into the list (dataset)\n",
    "\n",
    "        except Exception as e:\n",
    "            print('Exception:',e)\n",
    "            #if any exception rasied, the exception will be printed here. And pass to the next image"
   ]
  },
  {
   "cell_type": "code",
   "execution_count": 4,
   "metadata": {},
   "outputs": [],
   "source": [
    "import numpy as np\n",
    "Data= np.array(Data)/255.0\n",
    "Data= np.reshape(Data,(Data.shape[0],img_size,img_size,1))\n",
    "Target = np.array(Target)\n",
    "\n",
    "\n",
    "\n",
    "from keras.utils import np_utils\n",
    "new_target= np_utils.to_categorical(Target)"
   ]
  },
  {
   "cell_type": "code",
   "execution_count": 5,
   "metadata": {},
   "outputs": [],
   "source": [
    "np.save('Data',Data)\n",
    "np.save('Target',new_target)\n"
   ]
  },
  {
   "cell_type": "code",
   "execution_count": null,
   "metadata": {},
   "outputs": [],
   "source": []
  }
 ],
 "metadata": {
  "kernelspec": {
   "display_name": "Python 3 (ipykernel)",
   "language": "python",
   "name": "python3"
  },
  "language_info": {
   "codemirror_mode": {
    "name": "ipython",
    "version": 3
   },
   "file_extension": ".py",
   "mimetype": "text/x-python",
   "name": "python",
   "nbconvert_exporter": "python",
   "pygments_lexer": "ipython3",
   "version": "3.8.12"
  }
 },
 "nbformat": 4,
 "nbformat_minor": 4
}
